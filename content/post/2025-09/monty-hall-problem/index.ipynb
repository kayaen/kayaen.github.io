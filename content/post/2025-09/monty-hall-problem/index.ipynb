{
 "cells": [
  {
   "cell_type": "markdown",
   "id": "bc6d394f",
   "metadata": {},
   "source": [
    "---\n",
    "title: \"Monty Hall Problem Simulation\"\n",
    "date: 2025-09-28\n",
    "format: hugo-md\n",
    "execute:\n",
    "  echo: true\n",
    "  warning: false\n",
    "  error: false\n",
    "  fig-path: figure\n",
    "categories: [\"basics\"]\n",
    "tags: [\"python\", \"probablity\"]\n",
    "---\n"
   ]
  },
  {
   "cell_type": "markdown",
   "id": "fdf79ce3",
   "metadata": {},
   "source": [
    "# The Monty Hall Problem Simulation\n",
    "\n",
    "The Monty Hall problem is a classic probability puzzle that often surprises people with its counterintuitive result. The setup is simple: you pick one of three doors, behind one is a car and behind the others are goats. After your choice, the host reveals a goat behind one of the other doors and gives you the option to stay with your choice or switch.\n",
    "\n",
    "Mathematically, staying gives you a 1/3 chance of winning, while switching boosts your chances to 2/3. To see this in action, I wrote a Python simulation to compare both strategies. Let’s explore how the results play out when we run the experiment thousands of times.\n"
   ]
  },
  {
   "cell_type": "code",
   "execution_count": 1,
   "id": "9edfc760",
   "metadata": {},
   "outputs": [
    {
     "name": "stdout",
     "output_type": "stream",
     "text": [
      "Stay    wins:16712   loose:33069\n",
      "Switch  wins:33462   loose:16757\n"
     ]
    }
   ],
   "source": [
    "import random\n",
    "\n",
    "stay_wins = stay_losses = 0\n",
    "switch_wins = switch_losses = 0\n",
    "\n",
    "for _ in range(100_000):\n",
    "    car = random.randint(0, 2)\n",
    "    choosen = random.randint(0, 2)\n",
    "\n",
    "    # Host reveals a goat door\n",
    "    showing = random.choice([x for x in range(3) if x not in [car, choosen]])\n",
    "\n",
    "    action = random.randint(0, 1)  # 0 -> stay, 1 -> switch\n",
    "\n",
    "    # Final choice after action\n",
    "    if action == 1:  # switch\n",
    "        final_choosen = [x for x in range(3) if x not in [showing, choosen]][0]\n",
    "    else:  # stay\n",
    "        final_choosen = choosen\n",
    "\n",
    "    # Count results\n",
    "    if action == 0:  # stay\n",
    "        if final_choosen == car:\n",
    "            stay_wins += 1\n",
    "        else:\n",
    "            stay_losses += 1\n",
    "    else:  # switch\n",
    "        if final_choosen == car:\n",
    "            switch_wins += 1\n",
    "        else:\n",
    "            switch_losses += 1\n",
    "\n",
    "print(f\"Stay    wins:{stay_wins}   loose:{stay_losses}\")\n",
    "print(f\"Switch  wins:{switch_wins}   loose:{switch_losses}\")"
   ]
  },
  {
   "cell_type": "markdown",
   "id": "7712569f",
   "metadata": {},
   "source": [
    "The simulation confirms the theory: staying wins about one-third of the time, while switching wins about two-thirds of the time. Even though it feels like both options should be 50/50 after a door is revealed, the numbers tell a different story. By running this experiment thousands of times, we see how probability plays out in practice and why the counterintuitive \"always switch\" strategy gives you a much higher chance of winning.\n",
    "\n",
    "In fact, there's a video ([this video at timestamp 8:30](https://youtu.be/UgKrQ2ywVfs?si=jq6uhAmdTNS0ABiY&t=510)) where the speaker explains that by switching, you're effectively selecting two doors instead of one. This insight helped me visualize how the odds shift in favor of switching, making the concept more intuitive."
   ]
  }
 ],
 "metadata": {
  "kernelspec": {
   "display_name": "kneeoa_env",
   "language": "python",
   "name": "python3"
  },
  "language_info": {
   "codemirror_mode": {
    "name": "ipython",
    "version": 3
   },
   "file_extension": ".py",
   "mimetype": "text/x-python",
   "name": "python",
   "nbconvert_exporter": "python",
   "pygments_lexer": "ipython3",
   "version": "3.12.1"
  }
 },
 "nbformat": 4,
 "nbformat_minor": 5
}
